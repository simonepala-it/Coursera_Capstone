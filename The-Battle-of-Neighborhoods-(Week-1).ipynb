{
 "cells": [
  {
   "cell_type": "markdown",
   "metadata": {},
   "source": [
    "# The Battle of Neighborhoods (Week 1) - Simone's assignment"
   ]
  },
  {
   "cell_type": "markdown",
   "metadata": {},
   "source": [
    "## Problem description and background"
   ]
  },
  {
   "cell_type": "markdown",
   "metadata": {},
   "source": [
    "A restaurant chain is willing to diversify its business and open a new branch to serve the need of commuters in New York, so the question is \"where are the best places to open shops in New York\"?\n",
    "\n",
    "Marketing department describes the average profile of a commuter person as interested in a fast or \"grab & go\" meal to avoid spending time waiting at a table and have a meal while travelling.\n",
    "\n",
    "The business owners are considering opening shops in proximity of New York metro stations, so they'd like to know the presence of competitors in line with the marketing department indications (coffee shops, sandwich, fast food shops...) as well as the potential market size."
   ]
  },
  {
   "cell_type": "markdown",
   "metadata": {},
   "source": [
    "## Description of the data and use in the problem solution"
   ]
  },
  {
   "cell_type": "markdown",
   "metadata": {},
   "source": [
    "The following data are going to be retrieved:\n",
    "- New York public transportation (subway and bus) system is managed by MTA. Subway stations coordinates are made available on the MTA website https://new.mta.info.\n",
    "- MTA provides also the average number of people passing for each station (number of transits) of the last 6 years\n",
    "- Thanks to the Foursquare APIs a list of existing shops in the proximity (radius of 100m) of subway stations"
   ]
  },
  {
   "cell_type": "markdown",
   "metadata": {},
   "source": [
    "The list of subway stations are going to be used nodes for investigation, for each station:\n",
    "- it is possible to compare the potential profitability against other ones thanks to the data on average transits\n",
    "- it is possible to evaluate the number of competitors thanks to information from Foursquare\n",
    "\n",
    "The information will be aggregated in a dataframe and shown in a map, furthermore the dataframe will be elaborated with machine learnings to classify the spots into groups and shortlist the subway stations to be considered as location for investment by the restaurant chain."
   ]
  }
 ],
 "metadata": {
  "kernelspec": {
   "display_name": "Python",
   "language": "python",
   "name": "conda-env-python-py"
  },
  "language_info": {
   "codemirror_mode": {
    "name": "ipython",
    "version": 3
   },
   "file_extension": ".py",
   "mimetype": "text/x-python",
   "name": "python",
   "nbconvert_exporter": "python",
   "pygments_lexer": "ipython3",
   "version": "3.6.12"
  }
 },
 "nbformat": 4,
 "nbformat_minor": 4
}
