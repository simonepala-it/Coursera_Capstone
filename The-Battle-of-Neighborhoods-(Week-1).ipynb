{
 "cells": [
  {
   "cell_type": "markdown",
   "metadata": {},
   "source": [
    "# The Battle of Neighborhoods (Week 1) - Simone's assignment"
   ]
  },
  {
   "cell_type": "markdown",
   "metadata": {},
   "source": [
    "## Introduction/Business Problem"
   ]
  },
  {
   "cell_type": "markdown",
   "metadata": {},
   "source": [
    "A restaurant chain is willing to diversify its business and open a new branch to serve the need of commuters in New York, so the question is \"where are the best places to open shops in New York\"?\n",
    "\n",
    "Marketing department describes the average profile of a commuter person as interested in a fast or \"grab & go\" meal to avoid spending time waiting at a table and have a meal while travelling.\n",
    "\n",
    "The business owners are considering opening shops in proximity of New York metro stations, so they'd like to know the presence of competitors in line with the marketing department indications (coffee shops, sandwich, fast food shops...) as well as the potential market size."
   ]
  },
  {
   "cell_type": "markdown",
   "metadata": {},
   "source": [
    "## Data: description and use in the problem solution"
   ]
  },
  {
   "cell_type": "markdown",
   "metadata": {},
   "source": [
    "The following data are going to be retrieved:\n",
    "- New York public transportation (subway and bus) system is managed by MTA. Subway stations coordinates are made available on the MTA website https://new.mta.info.\n",
    "- MTA provides also the average number of people passing for each station (number of transits) of the last 6 years\n",
    "- Thanks to the Foursquare APIs a list of existing shops in the proximity (radius of 100m) of subway stations"
   ]
  },
  {
   "cell_type": "markdown",
   "metadata": {},
   "source": [
    "The list of subway stations are going to be used nodes for investigation, for each station:\n",
    "- it is possible to compare the potential profitability against other ones thanks to the data on average transits\n",
    "- it is possible to evaluate the number of competitors thanks to information from Foursquare\n",
    "\n",
    "The information will be aggregated in a dataframe and shown in a map, furthermore the dataframe will be elaborated with machine learnings to classify the spots into groups and shortlist the subway stations to be considered as location for investment by the restaurant chain."
   ]
  },
  {
   "cell_type": "markdown",
   "metadata": {},
   "source": [
    "### Details on the data"
   ]
  },
  {
   "cell_type": "markdown",
   "metadata": {},
   "source": [
    "#### Stations data"
   ]
  },
  {
   "cell_type": "markdown",
   "metadata": {},
   "source": [
    "Among the fields included in the stations data file (source: http://web.mta.info/developers/data/nyct/subway/Stations.csv) the followings are going to be used:\n",
    "- Station ID - unique identifier of the Station\n",
    "- Stop Name - Name of the Subway station\n",
    "- Borough - Name of the Borough\n",
    "- GTFS Latitude - Latitude of the station\n",
    "- GTFS Longitude - Longitude of the station\n",
    "\n",
    "The Latitude and Longitude are the used information."
   ]
  },
  {
   "cell_type": "markdown",
   "metadata": {},
   "source": [
    "#### Number of transits"
   ]
  },
  {
   "cell_type": "markdown",
   "metadata": {},
   "source": [
    "The data are provided in an excel file - source: https://new.mta.info/agency/new-york-city-transit/subway-bus-ridership-2019\n",
    "\n",
    "The information provided include the yearly number of transits from 2014 to 2019, last year change and the 2019 rank.\n",
    "The data are organized in three tabs:\n",
    "- number of transits for the average weekday per subway station\n",
    "- number of transits for the average weekend per subway station\n",
    "- total annual number of transits per subway station\n",
    "\n",
    "An additional data tab lists which and when some of the subway stations were temporarily closed.\n",
    "\n",
    "For the purpose of the study only the number of transits for the average weekday in 2019 and for the average weekend in 2019 will be considered and imported into a dataframe."
   ]
  },
  {
   "cell_type": "markdown",
   "metadata": {},
   "source": [
    "#### List of existing shops from Foursquare APIs"
   ]
  },
  {
   "cell_type": "markdown",
   "metadata": {},
   "source": [
    "Thanks to the Foursquare API is possible to retrieve the following info for each venue in a predefined radius (I'll use 100m) from the subway station:\n",
    "- id - it is a unique identifier for the venue\n",
    "- name - name of the venue\n",
    "- location with address, latitude and longitude - address of the venue and geospatial coordinates\n",
    "- category - category which the venue belongs to e.g. hotel, bar, restaurant"
   ]
  }
 ],
 "metadata": {
  "kernelspec": {
   "display_name": "Python",
   "language": "python",
   "name": "conda-env-python-py"
  },
  "language_info": {
   "codemirror_mode": {
    "name": "ipython",
    "version": 3
   },
   "file_extension": ".py",
   "mimetype": "text/x-python",
   "name": "python",
   "nbconvert_exporter": "python",
   "pygments_lexer": "ipython3",
   "version": "3.6.12"
  }
 },
 "nbformat": 4,
 "nbformat_minor": 4
}
